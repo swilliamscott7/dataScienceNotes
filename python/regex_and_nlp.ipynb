{
 "cells": [
  {
   "cell_type": "markdown",
   "source": [
    "# uses \r\n",
    "\r\n",
    "- clean dataset to prepare it for text mining / sentiment analysis \r\n",
    "- process email content to feed a ML algorithm that decides whether an email is spam \r\n",
    "- parse and extract specific data from a website to build a database \r\n",
    "\r\n",
    "Additional Resources :http://www.rexegg.com/regex-quickstart.html\r\n",
    "- "
   ],
   "metadata": {}
  },
  {
   "cell_type": "code",
   "execution_count": null,
   "source": [
    "# regex \n",
    "import re      #useful for string searching, string manipulation, and useful for webscraping \n",
    "\n",
    "'\\.'  - matches strings containing a period'.'\n",
    "'Length$' - matches strings ending with word 'Length'\n",
    "'^Sepal' - matches strings beginning with the word 'Sepal'\n",
    "'^x[1-5]$' - matches strings beginning with 'x' and ending with 1,2,3,4,5\n",
    "'^(?!Species$).*' - matches strings except with 'Species'\n",
    "\n",
    "E.G. I only want columns \n",
    "\n",
    "reggy='^(.+?)_'          ^=start of string, .=any character,  + = one or more characters,   ? = only everything before the first underscore\n",
    "df.filter(regex=reggy)"
   ],
   "outputs": [],
   "metadata": {}
  },
  {
   "cell_type": "code",
   "execution_count": 1,
   "source": [
    "import re\n",
    "str = \"Learning regex can be a lot of fun\"\n",
    "lst = re.findall('a', str)\n",
    "lst2 = re.findall('lot', str)\n",
    "print(lst)\n",
    "print(lst2)"
   ],
   "outputs": [
    {
     "output_type": "stream",
     "name": "stdout",
     "text": [
      "['a', 'a', 'a']\n",
      "['lot']\n"
     ]
    }
   ],
   "metadata": {}
  },
  {
   "cell_type": "code",
   "execution_count": 2,
   "source": [
    "lst = re.findall('[abc]', str)\n",
    "lst2 = re.findall('[a-c]', str)\n",
    "print(lst)\n",
    "print(lst2)"
   ],
   "outputs": [
    {
     "output_type": "stream",
     "name": "stdout",
     "text": [
      "['a', 'c', 'a', 'b', 'a']\n",
      "['a', 'c', 'a', 'b', 'a']\n"
     ]
    }
   ],
   "metadata": {}
  },
  {
   "cell_type": "code",
   "execution_count": null,
   "source": [
    "# CHEAT SHEET \r\n",
    "\r\n",
    "^        Matches the beginning of a line\r\n",
    "$        Matches the end of the line\r\n",
    ".        Matches any character\r\n",
    "\\s       Matches whitespace\r\n",
    "\\S       Matches any non-whitespace character\r\n",
    "*        Repeats a character zero or more times\r\n",
    "*?       Repeats a character zero or more times \r\n",
    "         (non-greedy)\r\n",
    "+        Repeats a character one or more times\r\n",
    "+?       Repeats a character one or more times \r\n",
    "         (non-greedy)\r\n",
    "[aeiou]  Matches a single character in the listed set\r\n",
    "[^XYZ]   Matches a single character not in the listed set\r\n",
    "[a-z0-9] The set of characters can include a range\r\n",
    "(        Indicates where string extraction is to start\r\n",
    ")        Indicates where string extraction is to end"
   ],
   "outputs": [],
   "metadata": {}
  },
  {
   "cell_type": "code",
   "execution_count": null,
   "source": [
    "# User can input any number followed by the letter d, m or y\r\n",
    "\r\n",
    "^[0-9]+[dmy]$\r\n",
    "\r\n",
    "^[0-9] - signifies the beginning of the match followed by a 0–9 number. \r\n",
    "+ - means it needs to be at least one 0–9 numberthough there can be more\r\n",
    "Then the string needs to be followed by d, m or y, which have to be at the end because of $.\r\n",
    "\r\n",
    "Test the below:\r\n",
    "    \r\n",
    "import re\r\n",
    "str = '1d'\r\n",
    "str2 = '200y'\r\n",
    "str3 = 'y200'\r\n",
    "lst = re.findall('^[0-9]+[dmy]$', str)\r\n",
    "lst2 = re.findall('^[0-9]+[dmy]$', str2)\r\n",
    "lst3 = re.findall('^[0-9]+[dmy]$', str3)\r\n",
    "print(lst)\r\n",
    "print(lst2)\r\n",
    "print(lst3)\r\n"
   ],
   "outputs": [],
   "metadata": {}
  },
  {
   "cell_type": "code",
   "execution_count": 6,
   "source": [
    "# Special Characters - these are used for matching purposes\r\n",
    "\r\n",
    "#   ., *, $     -  are all used for matching purposes. But if we actually want to search for one of these, use escape character, \\\r\n",
    "\r\n",
    "import re\r\n",
    "str = 'Sentences have dots. How do we escape them?'\r\n",
    "lst = re.findall('.', str)        # will return each character as an element in a list\r\n",
    "lst1 = re.findall('\\.', str)\r\n",
    "print(lst)\r\n",
    "print(lst1)\r\n",
    "print('His dog\\'s called Jasper')"
   ],
   "outputs": [
    {
     "output_type": "stream",
     "name": "stdout",
     "text": [
      "['S', 'e', 'n', 't', 'e', 'n', 'c', 'e', 's', ' ', 'h', 'a', 'v', 'e', ' ', 'd', 'o', 't', 's', '.', ' ', 'H', 'o', 'w', ' ', 'd', 'o', ' ', 'w', 'e', ' ', 'e', 's', 'c', 'a', 'p', 'e', ' ', 't', 'h', 'e', 'm', '?']\n",
      "['.']\n",
      "His dog's called Jasper\n"
     ]
    }
   ],
   "metadata": {}
  },
  {
   "cell_type": "code",
   "execution_count": 5,
   "source": [
    "# Matching a date \r\n",
    "\r\n",
    "import re\r\n",
    "str = 'The date is 22/10/2018'\r\n",
    "str1 = 'The date is 3/1/2019'\r\n",
    "lst = re.findall('[0-9]{1,2}\\/[0-9]{1,2}\\/[0-9]{4}', str)\r\n",
    "lst = re.findall('[0-9]{1,2}\\/[0-9]{1,2}\\/[0-9]{4}', str1)\r\n",
    "print(lst)\r\n",
    "print(lst1)"
   ],
   "outputs": [
    {
     "output_type": "stream",
     "name": "stdout",
     "text": [
      "['3/1/2019']\n",
      "['.']\n"
     ]
    }
   ],
   "metadata": {}
  },
  {
   "cell_type": "code",
   "execution_count": null,
   "source": [
    "# Extracting info from the match\r\n",
    "# we want to extract the domain name \r\n",
    "# add brackets around what you’re after \r\n",
    "import re\r\n",
    "str = 'email123_test@gmail.com'\r\n",
    "lst = re.findall('^[a-zA-Z0-9\\.\\_]*[a-zA-Z0-9]+[\\.\\_]*\\@([a-zA-Z0-9\\.\\_]*[a-zA-Z0-9]+[\\.\\_]*\\.[a-zA-z]+)', str)\r\n",
    "print(lst)"
   ],
   "outputs": [],
   "metadata": {}
  },
  {
   "cell_type": "markdown",
   "source": [
    "# DATACAMP \n",
    "\n",
    "- https://campus.datacamp.com/courses/regular-expressions-in-python/basic-concepts-of-string-manipulation?ex=1 \n"
   ],
   "metadata": {}
  },
  {
   "cell_type": "code",
   "execution_count": 4,
   "source": [
    "word = 'Awesome Day'\r\n",
    "print(word[0:6:2]) # using indexes, can add a third argument to indicate which characters we wish to skip- every second one \r\n",
    "\r\n",
    "# Palindromes\r\n",
    "print(word[::-1]) # returns a reverse string \r\n",
    "\r\n",
    "# E.G. \r\n",
    "\r\n",
    "movie_title = 'desserts I stressed'\r\n",
    "palindrome = movie_title[::-1]\r\n",
    "if movie_title == palindrome:\r\n",
    "    print(movie_title)"
   ],
   "outputs": [
    {
     "output_type": "stream",
     "name": "stdout",
     "text": [
      "Aeo\n",
      "yaD emosewA\n",
      "desserts I stressed\n"
     ]
    }
   ],
   "metadata": {}
  },
  {
   "cell_type": "code",
   "execution_count": 6,
   "source": [
    "- Where s is a string: \r\n",
    "s.upper()\r\n",
    "s.lower()\r\n",
    "s.capitalize()\r\n",
    "s.split()\r\n",
    "s.rsplit()\r\n",
    "\r\n",
    "\r\n"
   ],
   "outputs": [
    {
     "output_type": "error",
     "ename": "SyntaxError",
     "evalue": "invalid syntax (<ipython-input-6-f93e87c1c841>, line 1)",
     "traceback": [
      "\u001b[1;36m  File \u001b[1;32m\"<ipython-input-6-f93e87c1c841>\"\u001b[1;36m, line \u001b[1;32m1\u001b[0m\n\u001b[1;33m    .upper()\u001b[0m\n\u001b[1;37m    ^\u001b[0m\n\u001b[1;31mSyntaxError\u001b[0m\u001b[1;31m:\u001b[0m invalid syntax\n"
     ]
    }
   ],
   "metadata": {}
  },
  {
   "cell_type": "code",
   "execution_count": 9,
   "source": [
    "s = 'This is fuuuuuuun to do'\r\n",
    "# maxsplit is optional \r\n",
    "# don't have to specify sep argument if splitting on white space, more for if comma delimited \r\n",
    "s.split(sep=' ', maxsplit=2)      # starts from the left of the string \r\n",
    "s.rsplit(sep=' ', maxsplit=2)     # starts from the right of the string "
   ],
   "outputs": [
    {
     "output_type": "execute_result",
     "data": {
      "text/plain": [
       "['This is fuuuuuuun', 'to', 'do']"
      ]
     },
     "metadata": {},
     "execution_count": 9
    }
   ],
   "metadata": {}
  },
  {
   "cell_type": "code",
   "execution_count": null,
   "source": [
    "\\n, \\r\r\n",
    "\r\n",
    "- These escape sequences indicate a line boundary \r\n",
    "- Where want to split a string into lines \r\n",
    "\r\n",
    "s = 'This is line 1\\nThis is line 2'\r\n",
    "\r\n",
    "# Can split by line boundaries using two methods: \r\n",
    "file_split = file.split(sep='\\n')\r\n",
    "# OR\r\n",
    "file.splitlines()"
   ],
   "outputs": [],
   "metadata": {}
  },
  {
   "cell_type": "code",
   "execution_count": null,
   "source": [
    ".join() \r\n",
    "\r\n",
    "- concatenating strings from lists or another iterable object\r\n",
    "\r\n",
    "s = '  This is my string\\n'\r\n",
    ".strip() - \r\n",
    "\r\n",
    "- removes leading blank space and trailing escape sequence from left to right (\\n)\r\n",
    "\r\n",
    ".rstrip() \r\n",
    "\r\n",
    "- removes escape sequence from right to left \r\n",
    "\r\n",
    ".lstrip()\r\n",
    "\r\n",
    "- removes blank space from left to rigth \r\n",
    "\r\n",
    "\r\n",
    "# E.G. \r\n",
    "movie = '$The movie surprises me very much$'\r\n",
    "movie_clean = movie.strip('$')\r\n",
    "\r\n",
    "# E.G. 2\r\n",
    "movie_no_comma = ['the movie is']\r\n",
    "movie_join = ' '.join(movie_no_comma)\r\n",
    "print(movie_join)"
   ],
   "outputs": [],
   "metadata": {}
  },
  {
   "cell_type": "code",
   "execution_count": 26,
   "source": [
    "# Finding Substrings  - .find() vs .index() \r\n",
    "\r\n",
    "\r\n",
    "# string.find(substring,start,end)   # start,end are optional (i.e. give the index of where you want it to find it)\r\n",
    "\r\n",
    "s = \"Where's Wally\"\r\n",
    "s.find('Wally')                 # gives you the lowest index in the string where it can find the substring \r\n",
    "\r\n",
    "# Will return -1 if the substring is not found \r\n",
    "\r\n",
    "# string.index(substring, start,end)\r\n",
    "\r\n",
    "# this method raises an exception (ValueError) if substring not found --> use the 'try' 'except' logic \r\n",
    "\r\n",
    "try:\r\n",
    "    s.index('Wenda')\r\n",
    "except ValueError:\r\n",
    "    print('Not Found')\r\n",
    "    \r\n",
    "# s.count()\r\n",
    "s= 'This sentence must include sentence twice to test this'\r\n",
    "s.count('sentence')"
   ],
   "outputs": [
    {
     "output_type": "stream",
     "name": "stdout",
     "text": [
      "Not Found\n"
     ]
    }
   ],
   "metadata": {}
  },
  {
   "cell_type": "code",
   "execution_count": null,
   "source": [
    ".find() vs .index() \r\n",
    "\r\n",
    "# find() returns -1 if the substring is not found which, in most of cases, is better than handling the \r\n",
    "# exceptions index() will raise because it improves performance."
   ],
   "outputs": [],
   "metadata": {}
  },
  {
   "cell_type": "code",
   "execution_count": 31,
   "source": [
    "s= 'GOT has 7 seasons' \r\n",
    "s.replace('7', '8')\r\n",
    "\r\n",
    "\r\n",
    "# e.g. \r\n",
    "\r\n",
    "for movie in movies:\r\n",
    "  # Find if actor occurrs between 37 and 41\r\n",
    "    if movie.find(\"actor\", 37, 42) == -1:          # i.e. if it is not found i.e. False i.e. -1 \r\n",
    "        print(\"Word not found\")\r\n",
    "    # Count occurrences and replace two by one\r\n",
    "    elif movie.count(\"actor\") == 2:  \r\n",
    "        print(movie.replace(\"actor actor\", \"actor\"))\r\n",
    "    else:\r\n",
    "        # Replace three occurrences by one\r\n",
    "        print(movie.replace(\"actor actor actor\", \"actor\"))\r\n"
   ],
   "outputs": [
    {
     "output_type": "execute_result",
     "data": {
      "text/plain": [
       "'GOT has 8 seasons'"
      ]
     },
     "metadata": {},
     "execution_count": 31
    }
   ],
   "metadata": {}
  },
  {
   "cell_type": "markdown",
   "source": [
    "# String Formatting \n",
    "\n",
    "- aka string interpolation \n",
    "- where you insert a custom string into a predefined text \n",
    "\n",
    "## There are 3 main types of string formatting:  \n",
    "\n",
    "- Positional Formatting \n",
    "- Formatted String Literals \n",
    "- Template Method \n",
    "\n",
    "### How do you decide which to use? \n",
    "\n",
    "- str.format()\n",
    "    - easy to start with and build foundations for f strings\n",
    "    - compatible with all versions of python \n",
    "- f strings \n",
    "    - advised to use above all methods \n",
    "    - Not suitable if working with less than Python 3.6\n",
    "- template strings\n",
    "    - When working with external or user-provided strings \n",
    "\n",
    "Usage: \n",
    "- Title in a graph \n",
    "- Pass statement a function \n",
    "- Show Message or Error \n",
    "\n",
    "Three methods of formatting are: \n",
    "\n"
   ],
   "metadata": {}
  },
  {
   "cell_type": "code",
   "execution_count": 36,
   "source": [
    "# Positional Formatting \r\n",
    "\r\n",
    "- Using curly brackets as placeholders \r\n",
    "# E.G.\r\n",
    "\r\n",
    "print('Machine Learning provides {} the ability to learn {}'.format('systems', 'automatically'))\r\n",
    "\r\n",
    "s = '{} rely on {} datasets.'\r\n",
    "method = 'Supervised Algorithms'\r\n",
    "condition = 'labelled'\r\n",
    "\r\n",
    "print(s.format(method,condition))\r\n",
    "\r\n",
    "# If we want to reorder values, use indexing \r\n",
    "\r\n",
    "print('{2} has a friend called {0} and a sister called {1}.'.format('Betty', 'Mags','Barbs'))\r\n",
    "\r\n",
    "\r\n",
    "# Using Keywords\r\n",
    "title = 'Unsupervised Algorithms'\r\n",
    "goal = 'patterns'\r\n",
    "print('{title} try to find {aim} patterns in the dataset'.format(title=tool, aim=goal))\r\n",
    "\r\n",
    "# Can also define dictionaries\r\n",
    "my_methods = {'tool':'Unsupervised Algos', 'goal':'patterns'}\r\n",
    "print('{dict[tool]} try to find {dict[goal]} patterns in the dataset'.format(dict=my_methods))\r\n",
    "\r\n",
    "E.G.\r\n",
    "plan = {\r\n",
    "        \"field\": courses[0],\r\n",
    "        \"tool\": courses[1]\r\n",
    "        }\r\n",
    "my_message = \"If you are interested in {dict[field]}, you can take the course related to {dict[tool]}\"\r\n",
    "print(my_message.format(dict=plan))\r\n",
    "\r\n",
    "\r\n",
    "# Specifying the data type to be used {index:specifier}\r\n",
    "\r\n",
    "print('Only {0:f}% of the {1} produced worldwide is {2}!'.format(0.51556, 'data', 'analysed'))\r\n",
    "# index- means starts from zero, specifier f means float \r\n",
    "#   {0:.2f}    this would indicate that we want the float to have two decimal places "
   ],
   "outputs": [
    {
     "output_type": "stream",
     "name": "stdout",
     "text": [
      "Machine Learning provides systems the ability to learn automatically\n",
      "Supervised Algorithms rely on labelled datasets.\n",
      "Barbs has a friend called Betty and a sister called Mags.\n"
     ]
    }
   ],
   "metadata": {}
  },
  {
   "cell_type": "code",
   "execution_count": 38,
   "source": [
    "from datetime import datetime\r\n",
    "print(datetime.now())\r\n",
    "print(\"Today's date is {:%Y-%m-%d %H:%M}\".format(datetime.now()))\r\n",
    "\r\n",
    "# EXAMPLE 2 \r\n",
    "\r\n",
    "from datetime import datetime\r\n",
    "get_date = datetime.now()\r\n",
    "message = \"Good morning. Today is {today:%B %d, %Y}. It's {today:%H:%M} ... time to work!\"\r\n",
    "print(message.format(today=get_date))"
   ],
   "outputs": [
    {
     "output_type": "stream",
     "name": "stdout",
     "text": [
      "2019-07-13 14:38:30.287689\n",
      "Today's date is 2019-07-13 14:38\n",
      "Good morning. Today is July 13, 2019. It's 14:38 ... time to work!\n"
     ]
    }
   ],
   "metadata": {}
  },
  {
   "cell_type": "code",
   "execution_count": 1,
   "source": [
    "# FORMATTED STRING LITERAL METHOD - f strings \r\n",
    "\r\n",
    "- use prefix 'f' before the string \r\n",
    "- allow us to perform inline operations \r\n",
    "- Allows us to convert expressions into different types: \r\n",
    "    !s - strings \r\n",
    "    !r - string has quotation marks around it \r\n",
    "    !a - escapes the non ascii characters \r\n",
    "    \r\n",
    "E.G.\r\n",
    "name= 'Python'\r\n",
    "print(f'Python is called {name!r} due to a comedy series')\r\n",
    "\r\n",
    "# FORMAT SPECIFIERS \r\n",
    "\r\n",
    ":e - scientific notation  e.g. 5 10^3\r\n",
    ":d - digit (like int...2,3,4)\r\n",
    ":f - float (4.5345)\r\n",
    "datetime\r\n",
    "\r\n",
    "E.G.\r\n",
    "from datetime import datetime \r\n",
    "today = datetime.now()\r\n",
    "print(f\"Today's date is {today:%B %d, %Y}\")\r\n",
    "\r\n",
    "%B = Month\r\n",
    "%b = mth (e.g. Feb/ Jan)\r\n",
    "%e OR %d = day \r\n",
    "\r\n",
    "    \r\n",
    "# Index Lookups - requires quotes unlike Positional Formatting \r\n",
    "family={'dad':'graham', 'brother':'Grant'}\r\n",
    "print(f\"My dad is called {family['dad']} and my brother is called {family['brother']}\")\r\n",
    "      \r\n",
    "      \r\n",
    "EXAMPLE\r\n",
    "number= 23.6758\r\n",
    "print(f'In the last 2 years, {number:.2f}% of the data was produced worldwide!')  # round up to 2d.p\r\n",
    "      \r\n",
    "print(f\"Data science is considered {field1!r} in the {fact1:d}st century\")   # :d  - specifies digits \r\n",
    "      \r\n",
    "EXAMPLE 2\r\n",
    "print(f\"About {fact2:e} of {field2} in the world\")\r\n",
    "      \r\n",
    "EXAMPLE 3- WHERE east is a dict with price, date as keys:\r\n",
    "\r\n",
    "print(f\"The price for a house in the east neighborhood was ${east['price']} in {east['date']:%m-%e-%Y}\")\r\n",
    "      \r\n",
    "\r\n",
    "# s.replace()\r\n",
    "string1= httpswww.datacamp.com\r\n",
    "E.G. print(f\"{string1.replace('https', '')}\")\r\n",
    "      \r\n",
    "# f strings allows inline operations: \r\n",
    "      \r\n",
    "number1 = 4\r\n",
    "number2 = 7\r\n",
    "print(f'{number1} multiplied by {number2} equals {number1 * number2}')\r\n",
    "      \r\n",
    "# f strings allow you to call functions: \r\n",
    "      \r\n",
    "def sum_numbers(a,b):\r\n",
    "    '''Sums up two numbers '''\r\n",
    "    return a + b\r\n",
    "      \r\n",
    "print(f'The summation of 10 and 20 is {sum_numbers(10,20)}')"
   ],
   "outputs": [
    {
     "output_type": "error",
     "ename": "SyntaxError",
     "evalue": "invalid syntax (<ipython-input-1-7b0b7074fd04>, line 3)",
     "traceback": [
      "\u001b[1;36m  File \u001b[1;32m\"<ipython-input-1-7b0b7074fd04>\"\u001b[1;36m, line \u001b[1;32m3\u001b[0m\n\u001b[1;33m    - use prefix 'f' before the string\u001b[0m\n\u001b[1;37m               ^\u001b[0m\n\u001b[1;31mSyntaxError\u001b[0m\u001b[1;31m:\u001b[0m invalid syntax\n"
     ]
    }
   ],
   "metadata": {}
  },
  {
   "cell_type": "markdown",
   "source": [
    "# Template Strings \n",
    "\n",
    "- Simpler Syntax \n",
    "- Slower than f strings \n",
    "- Limited- don't allow format specifiers \n",
    "- Good when working with externally formatted strings \n",
    "\n",
    "\n"
   ],
   "metadata": {}
  },
  {
   "cell_type": "code",
   "execution_count": 17,
   "source": [
    "from string import Template \n",
    "my_string = Template('Data Science has been called $identifier')\n",
    "my_string.substitute(identifier='the sexiest job of the 21st century.')"
   ],
   "outputs": [
    {
     "output_type": "execute_result",
     "data": {
      "text/plain": [
       "'Data Science has been called the sexiest job of the 21st century.'"
      ]
     },
     "metadata": {},
     "execution_count": 17
    }
   ],
   "metadata": {}
  },
  {
   "cell_type": "code",
   "execution_count": 19,
   "source": [
    "# Can use multiple $identifier \n",
    "job = 'Data Science'\n",
    "opinion = 'the sexiest job of the 21st century'\n",
    "my_string = Template('$title has been called $description')\n",
    "my_string.substitute(title=job, description=opinion)"
   ],
   "outputs": [
    {
     "output_type": "execute_result",
     "data": {
      "text/plain": [
       "'Data Science has been called the sexiest job of the 21st century'"
      ]
     },
     "metadata": {},
     "execution_count": 19
    }
   ],
   "metadata": {}
  },
  {
   "cell_type": "code",
   "execution_count": 20,
   "source": [
    "# Sometimes will need curly brackets after the identifier - when valid characters follow: \n",
    "\n",
    "my_string = Template('I find Python very ${noun}ing but my sister has lost $noun')\n",
    "my_string.substitute(noun='interest')"
   ],
   "outputs": [
    {
     "output_type": "execute_result",
     "data": {
      "text/plain": [
       "'I find Python very interesting but my sister has lost interest'"
      ]
     },
     "metadata": {},
     "execution_count": 20
    }
   ],
   "metadata": {}
  },
  {
   "cell_type": "code",
   "execution_count": 22,
   "source": [
    "# What if missing identifier \n",
    "\n",
    "favourite = dict(flavour='chocolate')\n",
    "my_string = Template('I love $flavour $cake very much')\n",
    "#since $cake is missing from the dict, will get an error\n",
    "\n",
    "try:\n",
    "    my_string.substitute(favourite)\n",
    "except KeyError:\n",
    "    print('Missing Information')\n",
    "\n",
    "    \n",
    "# A better way to handle this, use safe substitute \n",
    "\n",
    "print(my_string.safe_substitute(favourite))"
   ],
   "outputs": [
    {
     "output_type": "stream",
     "name": "stdout",
     "text": [
      "Missing Information\n",
      "I love chocolate $cake very much\n"
     ]
    }
   ],
   "metadata": {}
  },
  {
   "cell_type": "code",
   "execution_count": 23,
   "source": [
    "# EXAMPLE\n",
    "# Select variables\n",
    "tools = ['Natural Language Toolkit', '20', 'Month']\n",
    "our_tool = tools[0]\n",
    "our_fee = tools[1]\n",
    "our_pay = tools[2]\n",
    "\n",
    "# Create template\n",
    "course = Template(\"We are offering a 3-month beginner course on $tool just for $$ $fee ${pay}ly\")\n",
    "\n",
    "# Substitute identifiers with three variables\n",
    "print(course.substitute(tool=our_tool, fee=our_fee, pay=our_pay))\n",
    "\n",
    "\n",
    "# EXAMPLE 2 \n",
    "the_answers = Template(\"Check your answer 1: $answer1, and your answer 2: $answer2\")\n",
    "# ANSWERS = {answer1:'djjfffjf'}\n",
    "try:\n",
    "    print(the_answers.substitute(answers))\n",
    "except KeyError:\n",
    "    print(\"Missing information\")"
   ],
   "outputs": [
    {
     "output_type": "stream",
     "name": "stdout",
     "text": [
      "We are offering a 3-month beginner course on Natural Language Toolkit just for $ 20 Monthly\n"
     ]
    }
   ],
   "metadata": {}
  },
  {
   "cell_type": "markdown",
   "source": [
    "# Introduction to Regex\n",
    "\n",
    "- String combo of normal and special metacharacters that describe patterns to find text or positions within a text \n",
    "\n",
    "- r' = row string  (always advisable to use it) \n",
    "- special metachars:\n",
    "    - \\d for digits \n",
    "    - \\s for whitespace\n",
    "    - \\w for word\n",
    "    \n",
    "### Uses \n",
    "\n",
    "- Find and replace text \n",
    "- Validate strings \n",
    "- They are VERY powerful + fast "
   ],
   "metadata": {}
  },
  {
   "cell_type": "code",
   "execution_count": 28,
   "source": [
    "import re \r\n",
    "\r\n",
    "#find all matches of a pattern: (will return a list with all matches found)\r\n",
    "re.findall(r'regex',str)\r\n",
    "\r\n",
    "# To split a string at each pattern match - use .split\r\n",
    "# Can then specify how you want it to split ',' '!' .....\r\n",
    "\r\n",
    "re.split(r'!','This! Is ! So ! Exciting !')"
   ],
   "outputs": [
    {
     "output_type": "execute_result",
     "data": {
      "text/plain": [
       "['This', ' Is ', ' So ', ' Exciting ', '']"
      ]
     },
     "metadata": {},
     "execution_count": 28
    }
   ],
   "metadata": {}
  },
  {
   "cell_type": "code",
   "execution_count": 29,
   "source": [
    "# re.sub(r'',new,string)\r\n",
    "\r\n",
    "re.sub(r'yellow','blue','I have a nice yellow car, and so I don\\'t feel yellow' )"
   ],
   "outputs": [
    {
     "output_type": "execute_result",
     "data": {
      "text/plain": [
       "\"I have a nice blue car, and so I don't feel blue\""
      ]
     },
     "metadata": {},
     "execution_count": 29
    }
   ],
   "metadata": {}
  },
  {
   "cell_type": "code",
   "execution_count": 35,
   "source": [
    "# Supported metacharacters \r\n",
    "\r\n",
    "re.findall(r'User\\d','The followings users have posted malicious content: User3, Userg, User234')  # digit\r\n",
    "re.findall(r'User\\D','The followings users have posted malicious content: User3, Userg, User234')  # Non-digit\r\n",
    "re.findall(r'User\\w','The followings users have posted malicious content: User3, Userg, User234')  # word \r\n",
    "\r\n",
    "re.findall(r'\\W\\d', 'The price of the dress is $5 today')   # W = non-word \r\n",
    "re.findall(r'Data\\sScience','The field of Data Science')    # whitespace\r\n",
    "re.sub(r'ice\\Scream', 'ice cream', 'I hate ice-cream')      # replaces non-whitespace "
   ],
   "outputs": [
    {
     "output_type": "execute_result",
     "data": {
      "text/plain": [
       "'I hate ice cream'"
      ]
     },
     "metadata": {},
     "execution_count": 35
    }
   ],
   "metadata": {}
  },
  {
   "cell_type": "markdown",
   "source": [
    "### NLTK NLP Stuff"
   ],
   "metadata": {}
  },
  {
   "cell_type": "code",
   "execution_count": null,
   "source": [
    "!pip install nltk\r\n",
    "import nltk\r\n",
    "nltk.download('punkt')\r\n",
    "nltk.download('averaged_perceptron_tagger')\r\n",
    "tokens = nltk.word_tokenize('my friend and his ball')\r\n",
    "pos_tags = nltk.pos_tag( tokens )\r\n",
    "words = []\r\n",
    "for k,j in pos_tags:\r\n",
    "    if j != 'PRP$':\r\n",
    "        words += [k]\r\n",
    "show_name = ' '.join(words)\r\n",
    "\r\n",
    "# Stop words \r\n",
    "nltk.download('stopwords')\r\n",
    "from nltk.corpus import stopwords\r\n",
    "stops = list(set(stopwords.words('english')))\r\n",
    "print(stops)"
   ],
   "outputs": [],
   "metadata": {}
  }
 ],
 "metadata": {
  "kernelspec": {
   "display_name": "Python 3",
   "language": "python",
   "name": "python3"
  },
  "language_info": {
   "codemirror_mode": {
    "name": "ipython",
    "version": 3
   },
   "file_extension": ".py",
   "mimetype": "text/x-python",
   "name": "python",
   "nbconvert_exporter": "python",
   "pygments_lexer": "ipython3",
   "version": "3.7.6"
  }
 },
 "nbformat": 4,
 "nbformat_minor": 4
}